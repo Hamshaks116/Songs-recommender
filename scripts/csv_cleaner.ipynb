{
 "cells": [
  {
   "attachments": {},
   "cell_type": "markdown",
   "id": "38e46499-44f9-4c4c-ae1e-8d8ffdd2b570",
   "metadata": {},
   "source": [
    "# Songs Recommender "
   ]
  },
  {
   "cell_type": "code",
   "execution_count": 18,
   "id": "7b5db898-8cb2-4661-a0ea-4105fb02f836",
   "metadata": {},
   "outputs": [],
   "source": [
    "import csv\n",
    "import pandas as pd\n",
    "import numpy as np"
   ]
  },
  {
   "cell_type": "code",
   "execution_count": 3,
   "id": "dd1e7154-2fda-4075-9518-e1211b1dfa7a",
   "metadata": {},
   "outputs": [],
   "source": [
    "# create dictionary of users and songs\n",
    "min_play_count = 10\n",
    "min_songs = 10\n",
    "\n",
    "user_songs = {}\n",
    "with open('../data/raw/train_triplets.txt') as file:\n",
    "    for line in file:\n",
    "        data = line.strip().split('\\t')\n",
    "        play_count = int(data[2])\n",
    "        if play_count < min_play_count:\n",
    "            continue\n",
    "        try:\n",
    "            user_songs[data[0]].append((data[1], play_count))\n",
    "        except:\n",
    "            user_songs[data[0]] = [(data[1], play_count)]\n",
    "\n",
    "user_songs = dict(filter(lambda x: len(x[1]) >= 10, user_songs.items()))"
   ]
  },
  {
   "cell_type": "code",
   "execution_count": 4,
   "id": "aeb5e339-982d-4d2a-b19b-3e37e2774020",
   "metadata": {},
   "outputs": [
    {
     "data": {
      "text/plain": [
       "130791"
      ]
     },
     "execution_count": 4,
     "metadata": {},
     "output_type": "execute_result"
    }
   ],
   "source": [
    "# create list of all songs\n",
    "all_songs = []\n",
    "for songs_counts in user_songs.values():\n",
    "    for song, _ in songs_counts:\n",
    "        all_songs.append(song)\n",
    "all_songs = list(set(all_songs))\n",
    "len(all_songs)"
   ]
  },
  {
   "cell_type": "code",
   "execution_count": 10,
   "id": "6bc73714",
   "metadata": {},
   "outputs": [
    {
     "data": {
      "text/plain": [
       "['SOZZONR12A58A7F429',\n",
       " 'SOQEPUD12AC90716D9',\n",
       " 'SOEBRJU12A58A7BCC5',\n",
       " 'SOVZCFJ12AF729A86C',\n",
       " 'SOQPIWR12AF72AD1DF',\n",
       " 'SOECRBA12AB01816A7',\n",
       " 'SONXYLQ12A58A7B1F8',\n",
       " 'SOHMZUP12AB018F79F',\n",
       " 'SOKNLMG12AF729FB53',\n",
       " 'SOPQRKO12A8C133B4A']"
      ]
     },
     "execution_count": 10,
     "metadata": {},
     "output_type": "execute_result"
    }
   ],
   "source": [
    "all_songs[:10]"
   ]
  },
  {
   "cell_type": "code",
   "execution_count": 42,
   "id": "6cf1f967",
   "metadata": {},
   "outputs": [],
   "source": [
    "# creates song_idxs.csv\n",
    "songs = pd.DataFrame({'song': all_songs,\n",
    "              'index': range(1,len(all_songs)+1)})\n",
    "songs.to_csv('../data/processed/song_idxs.csv')"
   ]
  },
  {
   "cell_type": "code",
   "execution_count": 43,
   "id": "27a3d62f",
   "metadata": {},
   "outputs": [],
   "source": [
    "# creates user_idxs.csv\n",
    "users = pd.DataFrame({'user': list(user_songs.keys()),\n",
    "              'index': range(1,len(list(user_songs.keys()))+1)})\n",
    "users.to_csv('../data/processed/user_idxs.csv')\n"
   ]
  },
  {
   "cell_type": "code",
   "execution_count": 46,
   "id": "f25a817f",
   "metadata": {},
   "outputs": [
    {
     "name": "stdout",
     "output_type": "stream",
     "text": [
      "[('SOADGFH12A8C143D89', 11), ('SOAFOBL12AF72A25BA', 12), ('SOAMPRJ12A8AE45F38', 20), ('SOAUXEN12A81C23960', 11), ('SOCFPSZ12A6D4FCA89', 15), ('SOCJCVE12A8C13CDDB', 11), ('SODTJFU12B0B80C9BE', 11), ('SOFFGTH12A67AE0925', 17), ('SOGXGKK12AB0184CD6', 12), ('SOHOTAA12A8AE45F43', 11), ('SOHYWRK12A8C13D117', 10), ('SOIFAGN12A6D4F7B29', 13), ('SOJHCOH12A8AE45F4F', 11), ('SOKYVWL12A67AE0922', 18), ('SOLARJV12AB018306B', 12), ('SOMVTRL12A67AE0921', 28), ('SONIMNU12B0B8092AB', 11), ('SONZSVJ12A67AE0924', 17), ('SOOSJIV12AF729E09E', 10), ('SOPTASI12AB0183185', 13), ('SOPWMAI12AB01831C2', 12), ('SOQJAUN12A6D4FA162', 11), ('SOQTCHH12A6D4F5AAD', 18), ('SOSOREL12AB01831EA', 12), ('SOTCMDJ12A6D4F8528', 14), ('SOTORXA12A58A79338', 15), ('SOVHVBJ12A58A7AB0A', 19), ('SOWBXWN12AB01837CF', 11), ('SOYIRPZ12A6D4FCAB0', 16), ('SOZZPSS12A6D4F3C71', 16)]\n"
     ]
    }
   ],
   "source": [
    "for user, songs_playcounts in user_songs.items():\n",
    "    print(songs_playcounts)\n",
    "    break"
   ]
  },
  {
   "cell_type": "code",
   "execution_count": 39,
   "id": "08b351a2",
   "metadata": {},
   "outputs": [
    {
     "data": {
      "text/html": [
       "<div>\n",
       "<style scoped>\n",
       "    .dataframe tbody tr th:only-of-type {\n",
       "        vertical-align: middle;\n",
       "    }\n",
       "\n",
       "    .dataframe tbody tr th {\n",
       "        vertical-align: top;\n",
       "    }\n",
       "\n",
       "    .dataframe thead th {\n",
       "        text-align: right;\n",
       "    }\n",
       "</style>\n",
       "<table border=\"1\" class=\"dataframe\">\n",
       "  <thead>\n",
       "    <tr style=\"text-align: right;\">\n",
       "      <th></th>\n",
       "      <th>user_idx</th>\n",
       "      <th>song_idx</th>\n",
       "      <th>play_count</th>\n",
       "    </tr>\n",
       "  </thead>\n",
       "  <tbody>\n",
       "    <tr>\n",
       "      <th>0</th>\n",
       "      <td>0</td>\n",
       "      <td>15372</td>\n",
       "      <td>1.0</td>\n",
       "    </tr>\n",
       "    <tr>\n",
       "      <th>1</th>\n",
       "      <td>0</td>\n",
       "      <td>93191</td>\n",
       "      <td>1.0</td>\n",
       "    </tr>\n",
       "    <tr>\n",
       "      <th>2</th>\n",
       "      <td>0</td>\n",
       "      <td>100477</td>\n",
       "      <td>1.0</td>\n",
       "    </tr>\n",
       "    <tr>\n",
       "      <th>3</th>\n",
       "      <td>0</td>\n",
       "      <td>103324</td>\n",
       "      <td>1.0</td>\n",
       "    </tr>\n",
       "    <tr>\n",
       "      <th>4</th>\n",
       "      <td>0</td>\n",
       "      <td>74034</td>\n",
       "      <td>1.0</td>\n",
       "    </tr>\n",
       "    <tr>\n",
       "      <th>...</th>\n",
       "      <td>...</td>\n",
       "      <td>...</td>\n",
       "      <td>...</td>\n",
       "    </tr>\n",
       "    <tr>\n",
       "      <th>397836</th>\n",
       "      <td>64773</td>\n",
       "      <td>112201</td>\n",
       "      <td>1.0</td>\n",
       "    </tr>\n",
       "    <tr>\n",
       "      <th>397837</th>\n",
       "      <td>64773</td>\n",
       "      <td>87851</td>\n",
       "      <td>1.0</td>\n",
       "    </tr>\n",
       "    <tr>\n",
       "      <th>397838</th>\n",
       "      <td>64773</td>\n",
       "      <td>98737</td>\n",
       "      <td>1.0</td>\n",
       "    </tr>\n",
       "    <tr>\n",
       "      <th>397839</th>\n",
       "      <td>64773</td>\n",
       "      <td>7502</td>\n",
       "      <td>1.0</td>\n",
       "    </tr>\n",
       "    <tr>\n",
       "      <th>397840</th>\n",
       "      <td>64773</td>\n",
       "      <td>113640</td>\n",
       "      <td>1.0</td>\n",
       "    </tr>\n",
       "  </tbody>\n",
       "</table>\n",
       "<p>397841 rows × 3 columns</p>\n",
       "</div>"
      ],
      "text/plain": [
       "        user_idx  song_idx  play_count\n",
       "0              0     15372         1.0\n",
       "1              0     93191         1.0\n",
       "2              0    100477         1.0\n",
       "3              0    103324         1.0\n",
       "4              0     74034         1.0\n",
       "...          ...       ...         ...\n",
       "397836     64773    112201         1.0\n",
       "397837     64773     87851         1.0\n",
       "397838     64773     98737         1.0\n",
       "397839     64773      7502         1.0\n",
       "397840     64773    113640         1.0\n",
       "\n",
       "[397841 rows x 3 columns]"
      ]
     },
     "execution_count": 39,
     "metadata": {},
     "output_type": "execute_result"
    }
   ],
   "source": [
    "data = pd.read_csv('../data/processed/users_songs.csv')\n",
    "data"
   ]
  },
  {
   "cell_type": "code",
   "execution_count": 38,
   "id": "2bc5f4a9",
   "metadata": {},
   "outputs": [
    {
     "data": {
      "text/plain": [
       "[('SOADGFH12A8C143D89', 11),\n",
       " ('SOAFOBL12AF72A25BA', 12),\n",
       " ('SOAMPRJ12A8AE45F38', 20),\n",
       " ('SOAUXEN12A81C23960', 11),\n",
       " ('SOCFPSZ12A6D4FCA89', 15),\n",
       " ('SOCJCVE12A8C13CDDB', 11),\n",
       " ('SODTJFU12B0B80C9BE', 11),\n",
       " ('SOFFGTH12A67AE0925', 17),\n",
       " ('SOGXGKK12AB0184CD6', 12),\n",
       " ('SOHOTAA12A8AE45F43', 11),\n",
       " ('SOHYWRK12A8C13D117', 10),\n",
       " ('SOIFAGN12A6D4F7B29', 13),\n",
       " ('SOJHCOH12A8AE45F4F', 11),\n",
       " ('SOKYVWL12A67AE0922', 18),\n",
       " ('SOLARJV12AB018306B', 12),\n",
       " ('SOMVTRL12A67AE0921', 28),\n",
       " ('SONIMNU12B0B8092AB', 11),\n",
       " ('SONZSVJ12A67AE0924', 17),\n",
       " ('SOOSJIV12AF729E09E', 10),\n",
       " ('SOPTASI12AB0183185', 13),\n",
       " ('SOPWMAI12AB01831C2', 12),\n",
       " ('SOQJAUN12A6D4FA162', 11),\n",
       " ('SOQTCHH12A6D4F5AAD', 18),\n",
       " ('SOSOREL12AB01831EA', 12),\n",
       " ('SOTCMDJ12A6D4F8528', 14),\n",
       " ('SOTORXA12A58A79338', 15),\n",
       " ('SOVHVBJ12A58A7AB0A', 19),\n",
       " ('SOWBXWN12AB01837CF', 11),\n",
       " ('SOYIRPZ12A6D4FCAB0', 16),\n",
       " ('SOZZPSS12A6D4F3C71', 16)]"
      ]
     },
     "execution_count": 38,
     "metadata": {},
     "output_type": "execute_result"
    }
   ],
   "source": [
    "user_songs['5a905f000fc1ff3df7ca807d57edb608863db05d']"
   ]
  },
  {
   "cell_type": "code",
   "execution_count": 34,
   "id": "1b218010-51de-4471-b9ca-ae11895c0172",
   "metadata": {},
   "outputs": [
    {
     "data": {
      "text/plain": [
       "397841"
      ]
     },
     "execution_count": 34,
     "metadata": {},
     "output_type": "execute_result"
    }
   ],
   "source": [
    "lines = 0\n",
    "with open('../data/processed/users_songs.csv', 'w') as file:\n",
    "    file.write('user_idx,song_idx,play_count\\n')\n",
    "    for user, songs_playcounts in user_songs.items():\n",
    "        user_idx = user_idxs[user]\n",
    "        play_counts = [x[1] for x in songs_playcounts]\n",
    "        avg_play_count = sum(play_counts) / len(play_counts)\n",
    "        for song, play_count in songs_playcounts:\n",
    "            if play_count >= avg_play_count:\n",
    "                pcrta = play_count / avg_play_count\n",
    "                pcrta = min(pcrta, 1)\n",
    "                song_idx = song_idxs[song]\n",
    "                file.write('{},{},{}\\n'.format(user_idx, song_idx, pcrta))\n",
    "                lines += 1\n",
    "                \n",
    "lines"
   ]
  },
  {
   "cell_type": "code",
   "execution_count": null,
   "id": "71ad2686",
   "metadata": {},
   "outputs": [],
   "source": []
  },
  {
   "cell_type": "code",
   "execution_count": 47,
   "id": "b20c462e-2adb-4e71-90ee-0e1753babcc9",
   "metadata": {},
   "outputs": [
    {
     "name": "stdout",
     "output_type": "stream",
     "text": [
      "good 131397\n",
      "bad 868603\n"
     ]
    }
   ],
   "source": [
    "good=0\n",
    "bad=0\n",
    "with open('../data/processed/songs.csv', 'w') as songs_file:\n",
    "    writer = csv.writer(songs_file)\n",
    "    writer.writerow(['index', 'song', 'artist', 'search'])\n",
    "    with open('../data/raw/unique_tracks.txt') as ut_file:\n",
    "        for line in ut_file:\n",
    "            try:\n",
    "                info = line.strip().split('<SEP>')\n",
    "                song_id = info[1]\n",
    "                song_idx = song_idxs[song_id]\n",
    "                artist = info[2]\n",
    "                song = info[3]\n",
    "                search = song.lower() + ' by ' + artist.lower()\n",
    "                writer.writerow([song_idx,song,artist,search])\n",
    "                good += 1\n",
    "            except Exception as exception:\n",
    "                bad += 1\n",
    "print('good', good)\n",
    "print('bad', bad)"
   ]
  },
  {
   "cell_type": "code",
   "execution_count": null,
   "id": "8ae2babd",
   "metadata": {},
   "outputs": [],
   "source": []
  }
 ],
 "metadata": {
  "kernelspec": {
   "display_name": "Python 3 (ipykernel)",
   "language": "python",
   "name": "python3"
  },
  "language_info": {
   "codemirror_mode": {
    "name": "ipython",
    "version": 3
   },
   "file_extension": ".py",
   "mimetype": "text/x-python",
   "name": "python",
   "nbconvert_exporter": "python",
   "pygments_lexer": "ipython3",
   "version": "3.8.8"
  }
 },
 "nbformat": 4,
 "nbformat_minor": 5
}
